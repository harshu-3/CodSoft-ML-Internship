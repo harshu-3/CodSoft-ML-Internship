{
 "cells": [
  {
   "cell_type": "code",
   "execution_count": null,
   "metadata": {},
   "outputs": [],
   "source": [
    "import numpy as np\n",
    "import pandas as pd\n",
    "import seaborn as sns\n",
    "import plotly.express as px\n",
    "import matplotlib.pyplot as plt\n",
    "from sklearn.model_selection import cross_val_score\n",
    "\n",
    "from sklearn import metrics\n",
    "from collections import Counter"
   ]
  },
  {
   "cell_type": "code",
   "execution_count": null,
   "metadata": {},
   "outputs": [],
   "source": [
    "try:\n",
    "    train_df = pd.read_csv('/kaggle/input/fraud-detection/fraudTrain.csv')\n",
    "    test_df = pd.read_csv('/kaggle/input/fraud-detection/fraudTest.csv')\n",
    "except:\n",
    "    train_df = pd.read_csv('fraudTrain.csv')\n",
    "    test_df = pd.read_csv('fraudTest.csv')"
   ]
  },
  {
   "cell_type": "code",
   "execution_count": null,
   "metadata": {},
   "outputs": [],
   "source": [
    "train_df.head()"
   ]
  },
  {
   "cell_type": "code",
   "execution_count": null,
   "metadata": {},
   "outputs": [],
   "source": [
    "fig = px.pie(values=train_df['is_fraud'].value_counts(), names=[\"Genuine\",\"Fraud\"] , width=700, height=400, color_discrete_sequence=[\"skyblue\",\"black\"]\n",
    "             ,title=\"Fraud vs Genuine transactions\")\n",
    "fig.show()"
   ]
  },
  {
   "cell_type": "code",
   "execution_count": null,
   "metadata": {},
   "outputs": [],
   "source": [
    "plt.figure(figsize=(3,4))\n",
    "ax = sns.countplot(x='is_fraud',data=train_df,palette=\"pastel\")\n",
    "for i in ax.containers:\n",
    "    ax.bar_label(i,)"
   ]
  },
  {
   "cell_type": "code",
   "execution_count": null,
   "metadata": {},
   "outputs": [],
   "source": [
    "print('Genuine:', round(train_df['is_fraud'].value_counts()[0]/len(train_df) * 100,2), '% of the dataset')\n",
    "print('Frauds:', round(train_df['is_fraud'].value_counts()[1]/len(train_df) * 100,2), '% of the dataset')"
   ]
  },
  {
   "cell_type": "code",
   "execution_count": null,
   "metadata": {},
   "outputs": [],
   "source": [
    "train_df.info(),test_df.info()"
   ]
  },
  {
   "cell_type": "code",
   "execution_count": null,
   "metadata": {},
   "outputs": [],
   "source": [
    "train_df.isnull().sum(),test_df.isnull().sum()"
   ]
  },
  {
   "cell_type": "code",
   "execution_count": null,
   "metadata": {},
   "outputs": [],
   "source": [
    "drop_columns = ['Unnamed: 0','cc_num','merchant','trans_num','unix_time','first','last','street','zip']\n",
    "train_df.drop(columns=drop_columns,inplace=True)\n",
    "test_df.drop(columns=drop_columns,inplace=True)"
   ]
  },
  {
   "cell_type": "code",
   "execution_count": null,
   "metadata": {},
   "outputs": [],
   "source": [
    "print(train_df.shape)\n",
    "print(test_df.shape)"
   ]
  },
  {
   "cell_type": "code",
   "execution_count": null,
   "metadata": {},
   "outputs": [],
   "source": [
    "train_df['trans_date_trans_time']=pd.to_datetime(train_df['trans_date_trans_time'])\n",
    "train_df['trans_date']=train_df['trans_date_trans_time'].dt.strftime('%Y-%m-%d')\n",
    "train_df['trans_date']=pd.to_datetime(train_df['trans_date'])\n",
    "train_df['dob']=pd.to_datetime(train_df['dob'])\n",
    "\n",
    "test_df['trans_date_trans_time']=pd.to_datetime(test_df['trans_date_trans_time'])\n",
    "test_df['trans_date']=test_df['trans_date_trans_time'].dt.strftime('%Y-%m-%d')\n",
    "test_df['trans_date']=pd.to_datetime(test_df['trans_date'])\n",
    "test_df['dob']=pd.to_datetime(test_df['dob'])"
   ]
  },
  {
   "cell_type": "code",
   "execution_count": null,
   "metadata": {},
   "outputs": [],
   "source": [
    "train_df['trans_month'] = pd.DatetimeIndex(train_df['trans_date']).month\n",
    "train_df['trans_year'] = pd.DatetimeIndex(train_df['trans_date']).year"
   ]
  },
  {
   "cell_type": "code",
   "execution_count": null,
   "metadata": {},
   "outputs": [],
   "source": [
    "train_df['latitudinal_distance'] = abs(round(train_df['merch_lat']-train_df['lat'],3))\n",
    "train_df['longitudinal_distance'] = abs(round(train_df['merch_long']-train_df['long'],3))\n",
    "\n",
    "test_df['latitudinal_distance'] = abs(round(test_df['merch_lat']-test_df['lat'],3))\n",
    "test_df['longitudinal_distance'] = abs(round(test_df['merch_long']-test_df['long'],3))"
   ]
  },
  {
   "cell_type": "code",
   "execution_count": null,
   "metadata": {},
   "outputs": [],
   "source": [
    "drop_columns = ['trans_date_trans_time','city','lat','long','job','dob','merch_lat','merch_long','trans_date','state']\n",
    "train_df.drop(columns=drop_columns,inplace=True)\n",
    "test_df.drop(columns=drop_columns,inplace=True)"
   ]
  },
  {
   "cell_type": "code",
   "execution_count": null,
   "metadata": {},
   "outputs": [],
   "source": [
    "train_df.gender=train_df.gender.apply(lambda x: 1 if x==\"M\" else 0)\n",
    "test_df.gender=test_df.gender.apply(lambda x: 1 if x==\"M\" else 0)"
   ]
  },
  {
   "cell_type": "code",
   "execution_count": null,
   "metadata": {},
   "outputs": [],
   "source": [
    "train_df = pd.get_dummies(train_df, columns=['category'], prefix='category')\n",
    "test_df = pd.get_dummies(test_df, columns=['category'], prefix='category')\n",
    "\n",
    "test_df = test_df.reindex(columns=train_df.columns, fill_value=0)"
   ]
  },
  {
   "cell_type": "code",
   "execution_count": null,
   "metadata": {},
   "outputs": [],
   "source": [
    "train_df.head()"
   ]
  },
  {
   "cell_type": "code",
   "execution_count": null,
   "metadata": {},
   "outputs": [],
   "source": [
    "test_df.head()"
   ]
  },
  {
   "cell_type": "code",
   "execution_count": null,
   "metadata": {},
   "outputs": [],
   "source": [
    "X_train = train_df.drop('is_fraud', axis=1)\n",
    "y_train = train_df['is_fraud']\n",
    "X_test = test_df.drop('is_fraud', axis=1)\n",
    "y_test = test_df['is_fraud']"
   ]
  },
  {
   "cell_type": "code",
   "execution_count": null,
   "metadata": {},
   "outputs": [],
   "source": [
    "from imblearn.over_sampling import SMOTE\n",
    "\n",
    "smote = SMOTE(random_state=42)\n",
    "\n",
    "X_train, y_train = smote.fit_resample(X_test, y_test)"
   ]
  },
  {
   "cell_type": "code",
   "execution_count": null,
   "metadata": {},
   "outputs": [],
   "source": [
    "from sklearn.preprocessing import StandardScaler\n",
    "\n",
    "scaler = StandardScaler()\n",
    "scaler.fit(X_train)\n",
    "\n",
    "X_train = scaler.transform(X_train)\n",
    "X_test = scaler.transform(X_test)"
   ]
  },
  {
   "cell_type": "code",
   "execution_count": null,
   "metadata": {},
   "outputs": [],
   "source": [
    "import xgboost as xgb\n",
    "\n",
    "clf = xgb.XGBClassifier(\n",
    "    learning_rate=0.1, \n",
    "    n_estimators=100,  \n",
    "    max_depth=3,      \n",
    "    objective='binary:logistic', \n",
    "    random_state=42\n",
    ")\n",
    "\n",
    "clf.fit(X_train, y_train)\n",
    "\n",
    "\n",
    "y_pred = clf.predict(X_test)\n",
    "\n",
    "\n",
    "report = classification_report(y_test, y_pred)\n",
    "\n",
    "\n",
    "print(report)"
   ]
  }
 ],
 "metadata": {
  "language_info": {
   "name": "python"
  }
 },
 "nbformat": 4,
 "nbformat_minor": 2
}
